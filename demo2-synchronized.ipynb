{
 "cells": [
  {
   "cell_type": "markdown",
   "metadata": {},
   "source": [
    "# 1 Setup"
   ]
  },
  {
   "cell_type": "code",
   "execution_count": 1,
   "metadata": {},
   "outputs": [
    {
     "name": "stderr",
     "output_type": "stream",
     "text": [
      "2024-11-29 16:14:42,084 - INFO - Initializing SDK...\n",
      "2024-11-29 16:14:42,112 - INFO - Enumerating devices...\n",
      "2024-11-29 16:14:42,216 - INFO - Find 1 devices!\n",
      "2024-11-29 16:14:42,218 - INFO - Printing device info...\n",
      "2024-11-29 16:14:42,219 - INFO - gige device: \n",
      "2024-11-29 16:14:42,221 - INFO - Printing GigE device info...\n",
      "2024-11-29 16:14:42,222 - INFO - device model name: MV-CB016-10GC-S\n",
      "2024-11-29 16:14:42,224 - INFO - current ip: 192.168.1.20\n",
      "2024-11-29 16:14:43,672 - INFO - Opening device...\n"
     ]
    }
   ],
   "source": [
    "import hik_driver\n",
    "\n",
    "cam = hik_driver.utils.init_SDK()"
   ]
  },
  {
   "cell_type": "code",
   "execution_count": 2,
   "metadata": {},
   "outputs": [
    {
     "name": "stderr",
     "output_type": "stream",
     "text": [
      "2024-11-29 16:14:45,718 - INFO - Setting exposure auto mode to off...\n",
      "2024-11-29 16:14:45,721 - INFO - Setting exposure time to 30000.0...\n",
      "2024-11-29 16:14:45,725 - INFO - Reading exposure time...\n",
      "2024-11-29 16:14:45,728 - INFO - ExposureTime: Current=30000.00, Max=9999400.00, Min=15.00\n",
      "2024-11-29 16:14:45,729 - INFO - Setting IEEE 1588 ...\n",
      "2024-11-29 16:14:45,734 - INFO - Setting trigger mode to On...\n",
      "2024-11-29 16:14:45,739 - INFO - Setting trigger source to Action1...\n",
      "2024-11-29 16:14:45,746 - INFO - Setting action keys...\n",
      "2024-11-29 16:14:45,752 - INFO - start grabbing...\n"
     ]
    }
   ],
   "source": [
    "hik_driver.utils.set_exposure_auto_off(cam)\n",
    "hik_driver.utils.set_exposure_time(cam,30000.0) # 30ms\n",
    "hik_driver.utils.get_exposure_time(cam)\n",
    "hik_driver.utils.set_IEEE1588(cam)\n",
    "hik_driver.utils.set_trigger_mode_On(cam)\n",
    "hik_driver.utils.set_trigger_source(cam, \"Action1\")\n",
    "hik_driver.utils.set_action_keys(cam)\n",
    "hik_driver.utils.start_grabbing(cam)"
   ]
  },
  {
   "cell_type": "markdown",
   "metadata": {},
   "source": [
    "# 2 Synchronization\n",
    "1. block到一个特定的时间点\n",
    "2. 开始以固定的频率发送"
   ]
  },
  {
   "cell_type": "code",
   "execution_count": 3,
   "metadata": {},
   "outputs": [],
   "source": [
    "from threading import Thread\n",
    "\n",
    "def pop_image():\n",
    "    while True:\n",
    "        image_frame = hik_driver.utils.pop_image_buffer(cam,print_info=False)\n",
    "        if image_frame:\n",
    "            frame_info = image_frame.stFrameInfo\n",
    "            timestamp_nano = hik_driver.utils.nanosec2date(hik_driver.utils.combine_timestamp(frame_info.nDevTimeStampHigh,frame_info.nDevTimeStampLow))\n",
    "            print(f\"Frame Info - Timestamp (64bit): {timestamp_nano}\")\n",
    "        \n",
    "\n",
    "t = Thread(target=pop_image)\n",
    "t.start()\n",
    "        \n",
    "\n"
   ]
  },
  {
   "cell_type": "code",
   "execution_count": 4,
   "metadata": {},
   "outputs": [],
   "source": [
    "\n",
    "timer = hik_driver.timer.Timer(sync_point=10000000,freq=20)\n"
   ]
  },
  {
   "cell_type": "code",
   "execution_count": 5,
   "metadata": {},
   "outputs": [
    {
     "name": "stdout",
     "output_type": "stream",
     "text": [
      "Wait until 2024-11-29 16:14:50.000000000\n"
     ]
    }
   ],
   "source": [
    "timer.sync_to_first_interval()"
   ]
  },
  {
   "cell_type": "code",
   "execution_count": 6,
   "metadata": {},
   "outputs": [
    {
     "name": "stdout",
     "output_type": "stream",
     "text": [
      "Frame Info - Timestamp (64bit): 2024-11-29 16:14:49.997307395\n",
      "Frame Info - Timestamp (64bit): 2024-11-29 16:14:50.099007675\n",
      "Frame Info - Timestamp (64bit): 2024-11-29 16:14:50.200842595\n",
      "Frame Info - Timestamp (64bit): 2024-11-29 16:14:50.302354335\n",
      "Frame Info - Timestamp (64bit): 2024-11-29 16:14:50.403987275\n",
      "Frame Info - Timestamp (64bit): 2024-11-29 16:14:50.505350875\n",
      "Frame Info - Timestamp (64bit): 2024-11-29 16:14:50.607239675\n",
      "Frame Info - Timestamp (64bit): 2024-11-29 16:14:50.709088075\n",
      "Frame Info - Timestamp (64bit): 2024-11-29 16:14:50.810734475\n",
      "Frame Info - Timestamp (64bit): 2024-11-29 16:14:50.912353935\n",
      "Frame Info - Timestamp (64bit): 2024-11-29 16:14:51.013690595\n"
     ]
    }
   ],
   "source": [
    "hik_driver.utils.issue_action_command(cam)\n",
    "\n",
    "for i in range(10):\n",
    "    # timer.sync_to_next_interval()\n",
    "    hik_driver.utils.issue_action_command(cam)"
   ]
  },
  {
   "cell_type": "markdown",
   "metadata": {},
   "source": [
    "# 3 close connection\n"
   ]
  },
  {
   "cell_type": "code",
   "execution_count": 7,
   "metadata": {},
   "outputs": [
    {
     "name": "stderr",
     "output_type": "stream",
     "text": [
      "2024-11-29 16:14:51,128 - INFO - Closing device...\n",
      "2024-11-29 16:14:51,299 - INFO - Device closed and SDK finalized\n"
     ]
    }
   ],
   "source": [
    "hik_driver.utils.close_device(cam)"
   ]
  }
 ],
 "metadata": {
  "kernelspec": {
   "display_name": "base",
   "language": "python",
   "name": "python3"
  },
  "language_info": {
   "codemirror_mode": {
    "name": "ipython",
    "version": 3
   },
   "file_extension": ".py",
   "mimetype": "text/x-python",
   "name": "python",
   "nbconvert_exporter": "python",
   "pygments_lexer": "ipython3",
   "version": "3.10.15"
  }
 },
 "nbformat": 4,
 "nbformat_minor": 2
}
